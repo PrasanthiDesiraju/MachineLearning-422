{
 "cells": [
  {
   "cell_type": "code",
   "execution_count": 1,
   "metadata": {
    "colab": {
     "base_uri": "https://localhost:8080/",
     "height": 35
    },
    "colab_type": "code",
    "id": "9BYGOH7c7JIr",
    "outputId": "d54819f9-9f71-4ff4-bd66-f7487c620c4f"
   },
   "outputs": [
    {
     "name": "stderr",
     "output_type": "stream",
     "text": [
      "Using TensorFlow backend.\n"
     ]
    }
   ],
   "source": [
    "import numpy as np \n",
    "import pandas as pd \n",
    "import matplotlib.pyplot as plt\n",
    "from keras.models import Sequential\n",
    "from keras.layers import Dense, Dropout, Lambda, Flatten\n",
    "from keras.optimizers import Adam, RMSprop\n",
    "from sklearn.model_selection import train_test_split"
   ]
  },
  {
   "cell_type": "code",
   "execution_count": 2,
   "metadata": {
    "colab": {},
    "colab_type": "code",
    "id": "NxFfI6677q6z"
   },
   "outputs": [],
   "source": [
    "train = pd.read_csv(\"/content/train.csv\")\n",
    "test_images = (pd.read_csv(\"/content/test.csv\").values).astype('float32')"
   ]
  },
  {
   "cell_type": "code",
   "execution_count": 3,
   "metadata": {
    "colab": {},
    "colab_type": "code",
    "id": "moiGuneA7taf"
   },
   "outputs": [],
   "source": [
    "train_images = (train.iloc[:, 1:].values).astype('float32')\n",
    "train_labels = train['label'].values.astype('int32')"
   ]
  },
  {
   "cell_type": "code",
   "execution_count": 4,
   "metadata": {
    "colab": {
     "base_uri": "https://localhost:8080/",
     "height": 35
    },
    "colab_type": "code",
    "id": "PIZWTF-Q7yAb",
    "outputId": "fd775171-0ce4-421d-f7c1-722da4ef8200"
   },
   "outputs": [
    {
     "data": {
      "text/plain": [
       "array([1, 0, 1, ..., 7, 6, 9], dtype=int32)"
      ]
     },
     "execution_count": 4,
     "metadata": {
      "tags": []
     },
     "output_type": "execute_result"
    }
   ],
   "source": [
    "train_labels"
   ]
  },
  {
   "cell_type": "code",
   "execution_count": 5,
   "metadata": {
    "colab": {
     "base_uri": "https://localhost:8080/",
     "height": 35
    },
    "colab_type": "code",
    "id": "7KRbBdLp70nu",
    "outputId": "9fa5f494-bb6e-4516-b1ae-57cd5f3c830d"
   },
   "outputs": [
    {
     "data": {
      "text/plain": [
       "(42000, 784)"
      ]
     },
     "execution_count": 5,
     "metadata": {
      "tags": []
     },
     "output_type": "execute_result"
    }
   ],
   "source": [
    "train_images.shape"
   ]
  },
  {
   "cell_type": "code",
   "execution_count": 6,
   "metadata": {
    "colab": {
     "base_uri": "https://localhost:8080/",
     "height": 205
    },
    "colab_type": "code",
    "id": "N97_giPl8PAx",
    "outputId": "e785e58d-2555-4a76-c0aa-5906fc85c4b5"
   },
   "outputs": [
    {
     "data": {
      "image/png": "[encoded data removed]",
      "text/plain": [
       "<Figure size 432x288 with 6 Axes>"
      ]
     },
     "metadata": {
      "needs_background": "light",
      "tags": []
     },
     "output_type": "display_data"
    }
   ],
   "source": [
    "train_images = train_images.reshape(train_images.shape[0], 28, 28)\n",
    "\n",
    "for i in range(0,6):\n",
    "    plt.axis(\"off\")\n",
    "    plt.subplot(330 + (i+1))\n",
    "    plt.imshow(train_images[i], cmap=plt.get_cmap('gray'))\n",
    "    plt.title(train_labels[i])"
   ]
  },
  {
   "cell_type": "code",
   "execution_count": 9,
   "metadata": {
    "colab": {
     "base_uri": "https://localhost:8080/",
     "height": 139
    },
    "colab_type": "code",
    "id": "Wd1tpWpx8UX-",
    "outputId": "3eb2e7a7-8ec9-4862-9b76-a46f6cf049c3"
   },
   "outputs": [
    {
     "data": {
      "text/plain": [
       "array([[0., 0., 0., ..., 0., 0., 0.],\n",
       "       [0., 0., 0., ..., 0., 0., 0.],\n",
       "       [0., 0., 0., ..., 0., 0., 0.],\n",
       "       ...,\n",
       "       [0., 0., 0., ..., 0., 0., 0.],\n",
       "       [0., 0., 0., ..., 0., 0., 0.],\n",
       "       [0., 0., 0., ..., 0., 0., 0.]], dtype=float32)"
      ]
     },
     "execution_count": 9,
     "metadata": {
      "tags": []
     },
     "output_type": "execute_result"
    }
   ],
   "source": [
    "train_images = train_images.reshape((42000, 28 * 28)"
   ]
  },
  {
   "cell_type": "code",
   "execution_count": 12,
   "metadata": {
    "colab": {},
    "colab_type": "code",
    "id": "YrAo0P6Z9DQ2"
   },
   "outputs": [],
   "source": [
    "#Normalize the Input Data\n",
    "train_images = train_images/255\n",
    "test_images = test_images/255"
   ]
  },
  {
   "cell_type": "code",
   "execution_count": 13,
   "metadata": {
    "colab": {
     "base_uri": "https://localhost:8080/",
     "height": 35
    },
    "colab_type": "code",
    "id": "BxwG69WO9L4b",
    "outputId": "7827fa2e-c572-4c16-f1b1-afb44c1f1998"
   },
   "outputs": [
    {
     "data": {
      "text/plain": [
       "10"
      ]
     },
     "execution_count": 13,
     "metadata": {
      "tags": []
     },
     "output_type": "execute_result"
    }
   ],
   "source": [
    "#One Hot Encoding - Target Variable\n",
    "from keras.utils.np_utils import to_categorical\n",
    "train_labels = to_categorical(train_labels)\n",
    "num_classes = train_labels.shape[1]\n",
    "num_classes"
   ]
  },
  {
   "cell_type": "code",
   "execution_count": 27,
   "metadata": {
    "colab": {},
    "colab_type": "code",
    "id": "iHkiLN3k9rpH"
   },
   "outputs": [],
   "source": [
    "#Build a sequential Model using Linear Stack - DNN\n",
    "\n",
    "from sklearn.model_selection import GridSearchCV\n",
    "from keras.models import Sequential\n",
    "from keras.layers import Dense, Dropout\n",
    "from keras.wrappers.scikit_learn import KerasClassifier\n"
   ]
  },
  {
   "cell_type": "code",
   "execution_count": 37,
   "metadata": {
    "colab": {},
    "colab_type": "code",
    "id": "WKTQHuyuAL8Q"
   },
   "outputs": [],
   "source": [
    "def create_model(learn_rate=0.01, momentum=0):\n",
    "  model = Sequential()\n",
    "  model.add(Dense(128, input_dim=784, activation='relu'))\n",
    "  model.add(Dense(64,activation='relu'))\n",
    "  model.add(Dense(10,activation='softmax'))\n",
    "  model.compile(loss='categorical_crossentropy',optimizer='adam',metrics=['accuracy'])\n",
    "  return model"
   ]
  },
  {
   "cell_type": "code",
   "execution_count": 33,
   "metadata": {
    "colab": {
     "base_uri": "https://localhost:8080/",
     "height": 347
    },
    "colab_type": "code",
    "id": "mfJVbxMX-8Lg",
    "outputId": "8797985a-af85-4d9a-802b-03e75dcd00a3"
   },
   "outputs": [
    {
     "name": "stdout",
     "output_type": "stream",
     "text": [
      "Best: 0.976262 using {'batch_size': 60, 'epochs': 100}\n",
      "0.966952 (0.002360) with: {'batch_size': 10, 'epochs': 10}\n",
      "0.972952 (0.000572) with: {'batch_size': 10, 'epochs': 50}\n",
      "0.972262 (0.001448) with: {'batch_size': 10, 'epochs': 100}\n",
      "0.970548 (0.002663) with: {'batch_size': 20, 'epochs': 10}\n",
      "0.971429 (0.001263) with: {'batch_size': 20, 'epochs': 50}\n",
      "0.973119 (0.001584) with: {'batch_size': 20, 'epochs': 100}\n",
      "0.969381 (0.002687) with: {'batch_size': 40, 'epochs': 10}\n",
      "0.974143 (0.001318) with: {'batch_size': 40, 'epochs': 50}\n",
      "0.976048 (0.001362) with: {'batch_size': 40, 'epochs': 100}\n",
      "0.969429 (0.001414) with: {'batch_size': 60, 'epochs': 10}\n",
      "0.974643 (0.000456) with: {'batch_size': 60, 'epochs': 50}\n",
      "0.976262 (0.001052) with: {'batch_size': 60, 'epochs': 100}\n",
      "0.971048 (0.001720) with: {'batch_size': 80, 'epochs': 10}\n",
      "0.974690 (0.000777) with: {'batch_size': 80, 'epochs': 50}\n",
      "0.974786 (0.001488) with: {'batch_size': 80, 'epochs': 100}\n",
      "0.969595 (0.000269) with: {'batch_size': 100, 'epochs': 10}\n",
      "0.974262 (0.000703) with: {'batch_size': 100, 'epochs': 50}\n",
      "0.974381 (0.000904) with: {'batch_size': 100, 'epochs': 100}\n"
     ]
    }
   ],
   "source": [
    "seed = 7\n",
    "np.random.seed(seed)\n",
    "\n",
    "model = KerasClassifier(build_fn=create_model,verbose=0)\n",
    "#define grid search parametes\n",
    "batch_size = [10, 20, 40, 60, 80, 100]\n",
    "epochs = [10, 50, 100]\n",
    "param_grid = dict(batch_size=batch_size, epochs=epochs)\n",
    "grid = GridSearchCV(estimator=model, param_grid=param_grid, n_jobs=-1, cv=3)\n",
    "grid_result = grid.fit(train_images, train_labels)\n",
    "# summarize results\n",
    "print(\"Best: %f using %s\" % (grid_result.best_score_, grid_result.best_params_))\n",
    "means = grid_result.cv_results_['mean_test_score']\n",
    "stds = grid_result.cv_results_['std_test_score']\n",
    "params = grid_result.cv_results_['params']\n",
    "for mean, stdev, param in zip(means, stds, params):\n",
    "    print(\"%f (%f) with: %r\" % (mean, stdev, param))"
   ]
  },
  {
   "cell_type": "code",
   "execution_count": 39,
   "metadata": {
    "colab": {
     "base_uri": "https://localhost:8080/",
     "height": 555
    },
    "colab_type": "code",
    "id": "xC_BdAicaM6u",
    "outputId": "99ac50ae-3671-463c-f084-e150682c5a38"
   },
   "outputs": [
    {
     "name": "stdout",
     "output_type": "stream",
     "text": [
      "Best: 0.976690 using {'learn_rate': 0.3, 'momentum': 0.9}\n",
      "0.974833 (0.000987) with: {'learn_rate': 0.001, 'momentum': 0.0}\n",
      "0.973976 (0.002274) with: {'learn_rate': 0.001, 'momentum': 0.2}\n",
      "0.975786 (0.001234) with: {'learn_rate': 0.001, 'momentum': 0.4}\n",
      "0.974310 (0.001167) with: {'learn_rate': 0.001, 'momentum': 0.6}\n",
      "0.975333 (0.000794) with: {'learn_rate': 0.001, 'momentum': 0.8}\n",
      "0.973881 (0.001634) with: {'learn_rate': 0.001, 'momentum': 0.9}\n",
      "0.975548 (0.001908) with: {'learn_rate': 0.01, 'momentum': 0.0}\n",
      "0.974476 (0.001448) with: {'learn_rate': 0.01, 'momentum': 0.2}\n",
      "0.975310 (0.000656) with: {'learn_rate': 0.01, 'momentum': 0.4}\n",
      "0.975548 (0.000566) with: {'learn_rate': 0.01, 'momentum': 0.6}\n",
      "0.975429 (0.001313) with: {'learn_rate': 0.01, 'momentum': 0.8}\n",
      "0.973524 (0.001070) with: {'learn_rate': 0.01, 'momentum': 0.9}\n",
      "0.975810 (0.000584) with: {'learn_rate': 0.1, 'momentum': 0.0}\n",
      "0.975286 (0.001090) with: {'learn_rate': 0.1, 'momentum': 0.2}\n",
      "0.975190 (0.000388) with: {'learn_rate': 0.1, 'momentum': 0.4}\n",
      "0.976286 (0.000562) with: {'learn_rate': 0.1, 'momentum': 0.6}\n",
      "0.974881 (0.000904) with: {'learn_rate': 0.1, 'momentum': 0.8}\n",
      "0.975024 (0.000683) with: {'learn_rate': 0.1, 'momentum': 0.9}\n",
      "0.976452 (0.000759) with: {'learn_rate': 0.2, 'momentum': 0.0}\n",
      "0.973238 (0.002609) with: {'learn_rate': 0.2, 'momentum': 0.2}\n",
      "0.975619 (0.000321) with: {'learn_rate': 0.2, 'momentum': 0.4}\n",
      "0.976595 (0.000445) with: {'learn_rate': 0.2, 'momentum': 0.6}\n",
      "0.975810 (0.000337) with: {'learn_rate': 0.2, 'momentum': 0.8}\n",
      "0.973405 (0.001297) with: {'learn_rate': 0.2, 'momentum': 0.9}\n",
      "0.975857 (0.001611) with: {'learn_rate': 0.3, 'momentum': 0.0}\n",
      "0.975262 (0.001238) with: {'learn_rate': 0.3, 'momentum': 0.2}\n",
      "0.976000 (0.001171) with: {'learn_rate': 0.3, 'momentum': 0.4}\n",
      "0.975976 (0.000263) with: {'learn_rate': 0.3, 'momentum': 0.6}\n",
      "0.974143 (0.001960) with: {'learn_rate': 0.3, 'momentum': 0.8}\n",
      "0.976690 (0.001085) with: {'learn_rate': 0.3, 'momentum': 0.9}\n"
     ]
    }
   ],
   "source": [
    "#Tune Learning Rate And Momentum\n",
    "\n",
    "model = KerasClassifier(build_fn=create_model, epochs=100, batch_size=60, verbose=0)\n",
    "# define the grid search parameters\n",
    "# define the grid search parameters\n",
    "learn_rate = [0.001, 0.01, 0.1, 0.2, 0.3]\n",
    "momentum = [0.0, 0.2, 0.4, 0.6, 0.8, 0.9]\n",
    "param_grid = dict(learn_rate=learn_rate, momentum=momentum)\n",
    "grid = GridSearchCV(estimator=model, param_grid=param_grid, n_jobs=-1, cv=3)\n",
    "grid_result = grid.fit(train_images, train_labels)\n",
    "# summarize results\n",
    "print(\"Best: %f using %s\" % (grid_result.best_score_, grid_result.best_params_))\n",
    "means = grid_result.cv_results_['mean_test_score']\n",
    "stds = grid_result.cv_results_['std_test_score']\n",
    "params = grid_result.cv_results_['params']\n",
    "for mean, stdev, param in zip(means, stds, params):\n",
    "    print(\"%f (%f) with: %r\" % (mean, stdev, param))"
   ]
  },
  {
   "cell_type": "code",
   "execution_count": 60,
   "metadata": {
    "colab": {
     "base_uri": "https://localhost:8080/",
     "height": 1000
    },
    "colab_type": "code",
    "id": "e1MbKLFTeWA5",
    "outputId": "9041c01b-9f93-4ca3-a7dd-b31ddd97c16a"
   },
   "outputs": [
    {
     "name": "stdout",
     "output_type": "stream",
     "text": [
      "Train on 33600 samples, validate on 8400 samples\n",
      "Epoch 1/100\n",
      "33600/33600 [==============================] - 3s 76us/step - loss: 0.2749 - accuracy: 0.9170 - val_loss: 0.1431 - val_accuracy: 0.9549\n",
      "Epoch 2/100\n",
      "33600/33600 [==============================] - 2s 71us/step - loss: 0.1210 - accuracy: 0.9629 - val_loss: 0.1315 - val_accuracy: 0.9580\n",
      "Epoch 3/100\n",
      "33600/33600 [==============================] - 2s 71us/step - loss: 0.0845 - accuracy: 0.9731 - val_loss: 0.1085 - val_accuracy: 0.9670\n",
      "Epoch 4/100\n",
      "33600/33600 [==============================] - 2s 70us/step - loss: 0.0667 - accuracy: 0.9787 - val_loss: 0.1174 - val_accuracy: 0.9656\n",
      "Epoch 5/100\n",
      "33600/33600 [==============================] - 2s 70us/step - loss: 0.0548 - accuracy: 0.9818 - val_loss: 0.1160 - val_accuracy: 0.9700\n",
      "Epoch 6/100\n",
      "33600/33600 [==============================] - 2s 71us/step - loss: 0.0434 - accuracy: 0.9855 - val_loss: 0.1103 - val_accuracy: 0.9690\n",
      "Epoch 7/100\n",
      "33600/33600 [==============================] - 2s 71us/step - loss: 0.0386 - accuracy: 0.9872 - val_loss: 0.1425 - val_accuracy: 0.9675\n",
      "Epoch 8/100\n",
      "33600/33600 [==============================] - 2s 70us/step - loss: 0.0359 - accuracy: 0.9885 - val_loss: 0.1359 - val_accuracy: 0.9701\n",
      "Epoch 9/100\n",
      "33600/33600 [==============================] - 2s 71us/step - loss: 0.0306 - accuracy: 0.9901 - val_loss: 0.1300 - val_accuracy: 0.9711\n",
      "Epoch 10/100\n",
      "33600/33600 [==============================] - 2s 70us/step - loss: 0.0290 - accuracy: 0.9904 - val_loss: 0.1709 - val_accuracy: 0.9632\n",
      "Epoch 11/100\n",
      "33600/33600 [==============================] - 2s 71us/step - loss: 0.0310 - accuracy: 0.9903 - val_loss: 0.1298 - val_accuracy: 0.9736\n",
      "Epoch 12/100\n",
      "33600/33600 [==============================] - 2s 70us/step - loss: 0.0208 - accuracy: 0.9929 - val_loss: 0.1374 - val_accuracy: 0.9748\n",
      "Epoch 13/100\n",
      "33600/33600 [==============================] - 2s 71us/step - loss: 0.0241 - accuracy: 0.9921 - val_loss: 0.1613 - val_accuracy: 0.9704\n",
      "Epoch 14/100\n",
      "33600/33600 [==============================] - 2s 71us/step - loss: 0.0237 - accuracy: 0.9921 - val_loss: 0.1673 - val_accuracy: 0.9692\n",
      "Epoch 15/100\n",
      "33600/33600 [==============================] - 2s 70us/step - loss: 0.0267 - accuracy: 0.9923 - val_loss: 0.1623 - val_accuracy: 0.9727\n",
      "Epoch 16/100\n",
      "33600/33600 [==============================] - 2s 72us/step - loss: 0.0235 - accuracy: 0.9930 - val_loss: 0.1771 - val_accuracy: 0.9698\n",
      "Epoch 17/100\n",
      "33600/33600 [==============================] - 2s 71us/step - loss: 0.0211 - accuracy: 0.9935 - val_loss: 0.1617 - val_accuracy: 0.9743\n",
      "Epoch 18/100\n",
      "33600/33600 [==============================] - 2s 73us/step - loss: 0.0151 - accuracy: 0.9951 - val_loss: 0.2118 - val_accuracy: 0.9656\n",
      "Epoch 19/100\n",
      "33600/33600 [==============================] - 2s 72us/step - loss: 0.0244 - accuracy: 0.9931 - val_loss: 0.1735 - val_accuracy: 0.9710\n",
      "Epoch 20/100\n",
      "33600/33600 [==============================] - 2s 74us/step - loss: 0.0171 - accuracy: 0.9945 - val_loss: 0.1942 - val_accuracy: 0.9718\n",
      "Epoch 21/100\n",
      "33600/33600 [==============================] - 2s 72us/step - loss: 0.0232 - accuracy: 0.9932 - val_loss: 0.1721 - val_accuracy: 0.9743\n",
      "Epoch 22/100\n",
      "33600/33600 [==============================] - 2s 71us/step - loss: 0.0092 - accuracy: 0.9970 - val_loss: 0.1727 - val_accuracy: 0.9754\n",
      "Epoch 23/100\n",
      "33600/33600 [==============================] - 2s 72us/step - loss: 0.0171 - accuracy: 0.9949 - val_loss: 0.2432 - val_accuracy: 0.9706\n",
      "Epoch 24/100\n",
      "33600/33600 [==============================] - 2s 72us/step - loss: 0.0209 - accuracy: 0.9941 - val_loss: 0.1985 - val_accuracy: 0.9724\n",
      "Epoch 25/100\n",
      "33600/33600 [==============================] - 2s 72us/step - loss: 0.0181 - accuracy: 0.9950 - val_loss: 0.2102 - val_accuracy: 0.9698\n",
      "Epoch 26/100\n",
      "33600/33600 [==============================] - 2s 72us/step - loss: 0.0158 - accuracy: 0.9955 - val_loss: 0.1940 - val_accuracy: 0.9760\n",
      "Epoch 27/100\n",
      "33600/33600 [==============================] - 3s 78us/step - loss: 0.0127 - accuracy: 0.9962 - val_loss: 0.1947 - val_accuracy: 0.9736\n",
      "Epoch 28/100\n",
      "33600/33600 [==============================] - 3s 79us/step - loss: 0.0140 - accuracy: 0.9963 - val_loss: 0.2010 - val_accuracy: 0.9733\n",
      "Epoch 29/100\n",
      "33600/33600 [==============================] - 3s 75us/step - loss: 0.0160 - accuracy: 0.9957 - val_loss: 0.1905 - val_accuracy: 0.9758\n",
      "Epoch 30/100\n",
      "33600/33600 [==============================] - 3s 79us/step - loss: 0.0151 - accuracy: 0.9960 - val_loss: 0.2022 - val_accuracy: 0.9737\n",
      "Epoch 31/100\n",
      "33600/33600 [==============================] - 2s 72us/step - loss: 0.0247 - accuracy: 0.9936 - val_loss: 0.2017 - val_accuracy: 0.9751\n",
      "Epoch 32/100\n",
      "33600/33600 [==============================] - 2s 72us/step - loss: 0.0116 - accuracy: 0.9968 - val_loss: 0.2035 - val_accuracy: 0.9752\n",
      "Epoch 33/100\n",
      "33600/33600 [==============================] - 2s 71us/step - loss: 0.0085 - accuracy: 0.9972 - val_loss: 0.1994 - val_accuracy: 0.9748\n",
      "Epoch 34/100\n",
      "33600/33600 [==============================] - 2s 72us/step - loss: 0.0131 - accuracy: 0.9965 - val_loss: 0.2226 - val_accuracy: 0.9731\n",
      "Epoch 35/100\n",
      "33600/33600 [==============================] - 2s 72us/step - loss: 0.0107 - accuracy: 0.9973 - val_loss: 0.2342 - val_accuracy: 0.9748\n",
      "Epoch 36/100\n",
      "33600/33600 [==============================] - 2s 70us/step - loss: 0.0122 - accuracy: 0.9964 - val_loss: 0.2943 - val_accuracy: 0.9694\n",
      "Epoch 37/100\n",
      "33600/33600 [==============================] - 2s 72us/step - loss: 0.0214 - accuracy: 0.9959 - val_loss: 0.2024 - val_accuracy: 0.9779\n",
      "Epoch 38/100\n",
      "33600/33600 [==============================] - 2s 73us/step - loss: 0.0148 - accuracy: 0.9964 - val_loss: 0.2222 - val_accuracy: 0.9743\n",
      "Epoch 39/100\n",
      "33600/33600 [==============================] - 2s 71us/step - loss: 0.0130 - accuracy: 0.9968 - val_loss: 0.2247 - val_accuracy: 0.9751\n",
      "Epoch 40/100\n",
      "33600/33600 [==============================] - 2s 70us/step - loss: 0.0175 - accuracy: 0.9965 - val_loss: 0.2172 - val_accuracy: 0.9760\n",
      "Epoch 41/100\n",
      "33600/33600 [==============================] - 2s 72us/step - loss: 0.0080 - accuracy: 0.9979 - val_loss: 0.2337 - val_accuracy: 0.9758\n",
      "Epoch 42/100\n",
      "33600/33600 [==============================] - 2s 72us/step - loss: 0.0090 - accuracy: 0.9975 - val_loss: 0.2528 - val_accuracy: 0.9733\n",
      "Epoch 43/100\n",
      "33600/33600 [==============================] - 2s 71us/step - loss: 0.0153 - accuracy: 0.9968 - val_loss: 0.2614 - val_accuracy: 0.9712\n",
      "Epoch 44/100\n",
      "33600/33600 [==============================] - 2s 70us/step - loss: 0.0232 - accuracy: 0.9946 - val_loss: 0.2638 - val_accuracy: 0.9733\n",
      "Epoch 45/100\n",
      "33600/33600 [==============================] - 2s 71us/step - loss: 0.0099 - accuracy: 0.9981 - val_loss: 0.2269 - val_accuracy: 0.9761\n",
      "Epoch 46/100\n",
      "33600/33600 [==============================] - 2s 71us/step - loss: 0.0011 - accuracy: 0.9997 - val_loss: 0.2299 - val_accuracy: 0.9777\n",
      "Epoch 47/100\n",
      "33600/33600 [==============================] - 2s 72us/step - loss: 5.3229e-04 - accuracy: 0.9999 - val_loss: 0.2457 - val_accuracy: 0.9767\n",
      "Epoch 48/100\n",
      "33600/33600 [==============================] - 2s 72us/step - loss: 0.0293 - accuracy: 0.9940 - val_loss: 0.2630 - val_accuracy: 0.9738\n",
      "Epoch 49/100\n",
      "33600/33600 [==============================] - 2s 73us/step - loss: 0.0153 - accuracy: 0.9961 - val_loss: 0.3018 - val_accuracy: 0.9754\n",
      "Epoch 50/100\n",
      "33600/33600 [==============================] - 2s 73us/step - loss: 0.0113 - accuracy: 0.9974 - val_loss: 0.3416 - val_accuracy: 0.9720\n",
      "Epoch 51/100\n",
      "33600/33600 [==============================] - 2s 72us/step - loss: 0.0169 - accuracy: 0.9963 - val_loss: 0.2742 - val_accuracy: 0.9757\n",
      "Epoch 52/100\n",
      "33600/33600 [==============================] - 2s 70us/step - loss: 0.0089 - accuracy: 0.9978 - val_loss: 0.2949 - val_accuracy: 0.9742\n",
      "Epoch 53/100\n",
      "33600/33600 [==============================] - 2s 70us/step - loss: 0.0173 - accuracy: 0.9965 - val_loss: 0.3087 - val_accuracy: 0.9737\n",
      "Epoch 54/100\n",
      "33600/33600 [==============================] - 2s 72us/step - loss: 0.0124 - accuracy: 0.9970 - val_loss: 0.3177 - val_accuracy: 0.9733\n",
      "Epoch 55/100\n",
      "33600/33600 [==============================] - 2s 70us/step - loss: 0.0056 - accuracy: 0.9988 - val_loss: 0.2478 - val_accuracy: 0.9768\n",
      "Epoch 56/100\n",
      "33600/33600 [==============================] - 2s 71us/step - loss: 0.0060 - accuracy: 0.9988 - val_loss: 0.2838 - val_accuracy: 0.9757\n",
      "Epoch 57/100\n",
      "33600/33600 [==============================] - 2s 71us/step - loss: 0.0229 - accuracy: 0.9953 - val_loss: 0.3267 - val_accuracy: 0.9720\n",
      "Epoch 58/100\n",
      "33600/33600 [==============================] - 2s 71us/step - loss: 0.0112 - accuracy: 0.9974 - val_loss: 0.2701 - val_accuracy: 0.9755\n",
      "Epoch 59/100\n",
      "33600/33600 [==============================] - 2s 71us/step - loss: 0.0116 - accuracy: 0.9972 - val_loss: 0.2699 - val_accuracy: 0.9762\n",
      "Epoch 60/100\n",
      "33600/33600 [==============================] - 2s 71us/step - loss: 0.0060 - accuracy: 0.9981 - val_loss: 0.2819 - val_accuracy: 0.9781\n",
      "Epoch 61/100\n",
      "33600/33600 [==============================] - 2s 70us/step - loss: 0.0160 - accuracy: 0.9967 - val_loss: 0.2895 - val_accuracy: 0.9763\n",
      "Epoch 62/100\n",
      "33600/33600 [==============================] - 2s 71us/step - loss: 0.0113 - accuracy: 0.9972 - val_loss: 0.2725 - val_accuracy: 0.9786\n",
      "Epoch 63/100\n",
      "33600/33600 [==============================] - 2s 71us/step - loss: 0.0118 - accuracy: 0.9970 - val_loss: 0.3196 - val_accuracy: 0.9742\n",
      "Epoch 64/100\n",
      "33600/33600 [==============================] - 2s 73us/step - loss: 0.0094 - accuracy: 0.9978 - val_loss: 0.2927 - val_accuracy: 0.9755\n",
      "Epoch 65/100\n",
      "33600/33600 [==============================] - 2s 72us/step - loss: 0.0090 - accuracy: 0.9979 - val_loss: 0.3110 - val_accuracy: 0.9760\n",
      "Epoch 66/100\n",
      "33600/33600 [==============================] - 2s 71us/step - loss: 0.0142 - accuracy: 0.9967 - val_loss: 0.3265 - val_accuracy: 0.9765\n",
      "Epoch 67/100\n",
      "33600/33600 [==============================] - 2s 72us/step - loss: 0.0121 - accuracy: 0.9974 - val_loss: 0.3496 - val_accuracy: 0.9758\n",
      "Epoch 68/100\n",
      "33600/33600 [==============================] - 2s 72us/step - loss: 0.0089 - accuracy: 0.9982 - val_loss: 0.3470 - val_accuracy: 0.9739\n",
      "Epoch 69/100\n",
      "33600/33600 [==============================] - 2s 73us/step - loss: 0.0159 - accuracy: 0.9971 - val_loss: 0.3483 - val_accuracy: 0.9740\n",
      "Epoch 70/100\n",
      "33600/33600 [==============================] - 2s 72us/step - loss: 0.0070 - accuracy: 0.9986 - val_loss: 0.3635 - val_accuracy: 0.9756\n",
      "Epoch 71/100\n",
      "33600/33600 [==============================] - 2s 73us/step - loss: 0.0096 - accuracy: 0.9982 - val_loss: 0.3507 - val_accuracy: 0.9736\n",
      "Epoch 72/100\n",
      "33600/33600 [==============================] - 2s 71us/step - loss: 0.0121 - accuracy: 0.9976 - val_loss: 0.3835 - val_accuracy: 0.9727\n",
      "Epoch 73/100\n",
      "33600/33600 [==============================] - 2s 72us/step - loss: 0.0133 - accuracy: 0.9977 - val_loss: 0.3505 - val_accuracy: 0.9769\n",
      "Epoch 74/100\n",
      "33600/33600 [==============================] - 2s 73us/step - loss: 0.0104 - accuracy: 0.9978 - val_loss: 0.4054 - val_accuracy: 0.9736\n",
      "Epoch 75/100\n",
      "33600/33600 [==============================] - 2s 73us/step - loss: 0.0102 - accuracy: 0.9981 - val_loss: 0.4315 - val_accuracy: 0.9714\n",
      "Epoch 76/100\n",
      "33600/33600 [==============================] - 2s 73us/step - loss: 0.0163 - accuracy: 0.9970 - val_loss: 0.3973 - val_accuracy: 0.9743\n",
      "Epoch 77/100\n",
      "33600/33600 [==============================] - 2s 74us/step - loss: 0.0119 - accuracy: 0.9976 - val_loss: 0.3758 - val_accuracy: 0.9755\n",
      "Epoch 78/100\n",
      "33600/33600 [==============================] - 2s 70us/step - loss: 0.0070 - accuracy: 0.9988 - val_loss: 0.3668 - val_accuracy: 0.9756\n",
      "Epoch 79/100\n",
      "33600/33600 [==============================] - 2s 72us/step - loss: 0.0050 - accuracy: 0.9988 - val_loss: 0.3498 - val_accuracy: 0.9775\n",
      "Epoch 80/100\n",
      "33600/33600 [==============================] - 2s 73us/step - loss: 0.0119 - accuracy: 0.9979 - val_loss: 0.4255 - val_accuracy: 0.9729\n",
      "Epoch 81/100\n",
      "33600/33600 [==============================] - 2s 73us/step - loss: 0.0162 - accuracy: 0.9969 - val_loss: 0.4206 - val_accuracy: 0.9738\n",
      "Epoch 82/100\n",
      "33600/33600 [==============================] - 2s 71us/step - loss: 0.0162 - accuracy: 0.9976 - val_loss: 0.4670 - val_accuracy: 0.9731\n",
      "Epoch 83/100\n",
      "33600/33600 [==============================] - 2s 71us/step - loss: 0.0123 - accuracy: 0.9979 - val_loss: 0.3871 - val_accuracy: 0.9755\n",
      "Epoch 84/100\n",
      "33600/33600 [==============================] - 2s 71us/step - loss: 0.0077 - accuracy: 0.9985 - val_loss: 0.4056 - val_accuracy: 0.9752\n",
      "Epoch 85/100\n",
      "33600/33600 [==============================] - 2s 73us/step - loss: 0.0129 - accuracy: 0.9978 - val_loss: 0.4286 - val_accuracy: 0.9744\n",
      "Epoch 86/100\n",
      "33600/33600 [==============================] - 2s 73us/step - loss: 0.0143 - accuracy: 0.9974 - val_loss: 0.3955 - val_accuracy: 0.9749\n",
      "Epoch 87/100\n",
      "33600/33600 [==============================] - 2s 71us/step - loss: 0.0061 - accuracy: 0.9987 - val_loss: 0.4283 - val_accuracy: 0.9754\n",
      "Epoch 88/100\n",
      "33600/33600 [==============================] - 2s 74us/step - loss: 0.0118 - accuracy: 0.9980 - val_loss: 0.4174 - val_accuracy: 0.9731\n",
      "Epoch 89/100\n",
      "33600/33600 [==============================] - 2s 72us/step - loss: 0.0121 - accuracy: 0.9979 - val_loss: 0.4411 - val_accuracy: 0.9736\n",
      "Epoch 90/100\n",
      "33600/33600 [==============================] - 2s 71us/step - loss: 0.0085 - accuracy: 0.9986 - val_loss: 0.4940 - val_accuracy: 0.9724\n",
      "Epoch 91/100\n",
      "33600/33600 [==============================] - 2s 72us/step - loss: 0.0119 - accuracy: 0.9980 - val_loss: 0.4320 - val_accuracy: 0.9760\n",
      "Epoch 92/100\n",
      "33600/33600 [==============================] - 2s 73us/step - loss: 0.0086 - accuracy: 0.9981 - val_loss: 0.4491 - val_accuracy: 0.9746\n",
      "Epoch 93/100\n",
      "33600/33600 [==============================] - 2s 72us/step - loss: 0.0047 - accuracy: 0.9992 - val_loss: 0.4326 - val_accuracy: 0.9758\n",
      "Epoch 94/100\n",
      "33600/33600 [==============================] - 2s 73us/step - loss: 0.0115 - accuracy: 0.9983 - val_loss: 0.4503 - val_accuracy: 0.9749\n",
      "Epoch 95/100\n",
      "33600/33600 [==============================] - 2s 74us/step - loss: 0.0188 - accuracy: 0.9975 - val_loss: 0.4988 - val_accuracy: 0.9733\n",
      "Epoch 96/100\n",
      "33600/33600 [==============================] - 2s 73us/step - loss: 0.0135 - accuracy: 0.9981 - val_loss: 0.4460 - val_accuracy: 0.9745\n",
      "Epoch 97/100\n",
      "33600/33600 [==============================] - 2s 71us/step - loss: 0.0052 - accuracy: 0.9988 - val_loss: 0.4264 - val_accuracy: 0.9758\n",
      "Epoch 98/100\n",
      "33600/33600 [==============================] - 2s 71us/step - loss: 0.0093 - accuracy: 0.9985 - val_loss: 0.4938 - val_accuracy: 0.9739\n",
      "Epoch 99/100\n",
      "33600/33600 [==============================] - 2s 73us/step - loss: 0.0094 - accuracy: 0.9980 - val_loss: 0.4265 - val_accuracy: 0.9748\n",
      "Epoch 100/100\n",
      "33600/33600 [==============================] - 2s 72us/step - loss: 0.0071 - accuracy: 0.9987 - val_loss: 0.4389 - val_accuracy: 0.9758\n"
     ]
    },
    {
     "data": {
      "text/plain": [
       "<keras.callbacks.callbacks.History at 0x7f6a9b275eb8>"
      ]
     },
     "execution_count": 60,
     "metadata": {
      "tags": []
     },
     "output_type": "execute_result"
    }
   ],
   "source": [
    "from keras.optimizers import SGD\n",
    "model = Sequential()\n",
    "model.add(Dense(128, input_dim=784, activation='relu'))\n",
    "model.add(Dense(64,activation='relu'))\n",
    "model.add(Dense(10,activation='softmax'))\n",
    "optimizer=Adam(learning_rate=0.003)\n",
    "model.compile(loss='categorical_crossentropy',optimizer=optimizer,metrics=['accuracy'])\n",
    "model.fit(train_images, train_labels, epochs=100, batch_size=60, validation_split=0.2,shuffle=True,\n",
    "         )"
   ]
  },
  {
   "cell_type": "code",
   "execution_count": 61,
   "metadata": {
    "colab": {},
    "colab_type": "code",
    "id": "5P_2YcCgeJ3x"
   },
   "outputs": [],
   "source": [
    "predictions = model.predict_classes(test_images, verbose=0)\n",
    "submissions=pd.DataFrame({'ImageId':list(range(1,len(predictions) + 1)), \"Label\": predictions})\n",
    "submissions.to_csv(\"result_grid.csv\", index=False, header=True)"
   ]
  }
 ],
 "metadata": {
  "colab": {
   "name": "DNN.ipynb",
   "provenance": []
  },
  "kernelspec": {
   "display_name": "Python 3",
   "language": "python",
   "name": "python3"
  },
  "language_info": {
   "codemirror_mode": {
    "name": "ipython",
    "version": 3
   },
   "file_extension": ".py",
   "mimetype": "text/x-python",
   "name": "python",
   "nbconvert_exporter": "python",
   "pygments_lexer": "ipython3",
   "version": "3.7.3"
  }
 },
 "nbformat": 4,
 "nbformat_minor": 1
}
