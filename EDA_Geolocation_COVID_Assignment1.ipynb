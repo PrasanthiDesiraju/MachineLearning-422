{
 "cells": [
  {
   "cell_type": "code",
   "execution_count": null,
   "metadata": {
    "colab": {
     "base_uri": "https://localhost:8080/",
     "height": 72
    },
    "colab_type": "code",
    "id": "xckWvk6rUX1o",
    "outputId": "cc20eed7-5488-4031-e5f1-3e31e85179d9"
   },
   "outputs": [],
   "source": [
    "import pandas as pd\n",
    "import numpy as np\n",
    "import matplotlib.pyplot as plt\n",
    "import seaborn as sns\n",
    "from sklearn.preprocessing import MinMaxScaler\n",
    "from sklearn.preprocessing import StandardScaler\n",
    "%matplotlib inline\n"
   ]
  },
  {
   "cell_type": "code",
   "execution_count": null,
   "metadata": {
    "colab": {},
    "colab_type": "code",
    "id": "BLBbsKfEVlpP"
   },
   "outputs": [],
   "source": [
    "url = \"https://opendata.ecdc.europa.eu/covid19/casedistribution/csv\"\n",
    "df = pd.read_csv(url)"
   ]
  },
  {
   "cell_type": "code",
   "execution_count": null,
   "metadata": {
    "colab": {
     "base_uri": "https://localhost:8080/",
     "height": 333
    },
    "colab_type": "code",
    "id": "Xds3XDwBVr_n",
    "outputId": "3cfa55b9-5c30-4381-9081-c47651af368a",
    "scrolled": true
   },
   "outputs": [],
   "source": [
    "df.info()"
   ]
  },
  {
   "cell_type": "code",
   "execution_count": null,
   "metadata": {
    "colab": {
     "base_uri": "https://localhost:8080/",
     "height": 199
    },
    "colab_type": "code",
    "id": "fLIqUZ9BV1ZP",
    "outputId": "7682cb21-89be-446a-9f3e-7d652b4a74fc"
   },
   "outputs": [],
   "source": [
    "df.head(5)"
   ]
  },
  {
   "cell_type": "code",
   "execution_count": null,
   "metadata": {
    "colab": {},
    "colab_type": "code",
    "id": "jSyqjBAeY0-l"
   },
   "outputs": [],
   "source": [
    "#Convert data strin columns to Pandas datatime .\n",
    "df[\"dateRep\"] = pd.to_datetime(df[\"dateRep\"], format='%d/%m/%Y')"
   ]
  },
  {
   "cell_type": "code",
   "execution_count": null,
   "metadata": {
    "colab": {
     "base_uri": "https://localhost:8080/",
     "height": 228
    },
    "colab_type": "code",
    "id": "K9MuyRSFZJIM",
    "outputId": "552842d1-cbe3-4a96-ca96-c9fc03ffcbac",
    "scrolled": true
   },
   "outputs": [],
   "source": [
    "df['countriesAndTerritories'].value_counts(sort=True)"
   ]
  },
  {
   "cell_type": "code",
   "execution_count": null,
   "metadata": {
    "colab": {
     "base_uri": "https://localhost:8080/",
     "height": 228
    },
    "colab_type": "code",
    "id": "kAdofiLMaB3_",
    "outputId": "e1a8138e-ab07-4096-9ca6-702af16ddd63"
   },
   "outputs": [],
   "source": [
    "df.isnull().sum()"
   ]
  },
  {
   "cell_type": "code",
   "execution_count": null,
   "metadata": {
    "colab": {
     "base_uri": "https://localhost:8080/",
     "height": 410
    },
    "colab_type": "code",
    "id": "WT7ntejyc_vd",
    "outputId": "cd03d5fb-af8d-4a2f-83e1-4768e9cf586f"
   },
   "outputs": [],
   "source": [
    "df[df['geoId'].isnull()]['countriesAndTerritories'].nunique()"
   ]
  },
  {
   "cell_type": "code",
   "execution_count": null,
   "metadata": {
    "colab": {},
    "colab_type": "code",
    "id": "Gt7_ieEDdsX2"
   },
   "outputs": [],
   "source": [
    "#Concatenate the Values countriesAndTerritories\tgeoId\tcountryterritoryCode to ensure we have unique values\n",
    "cols = ['countryterritoryCode', 'countriesAndTerritories', 'geoId']\n",
    "df['location'] = df[cols].apply(lambda row: '_'.join(row.values.astype(str)), axis=1)"
   ]
  },
  {
   "cell_type": "code",
   "execution_count": null,
   "metadata": {
    "colab": {
     "base_uri": "https://localhost:8080/",
     "height": 34
    },
    "colab_type": "code",
    "id": "ItOlZvEUwBEG",
    "outputId": "e517ba52-3f19-41ac-ccdf-b6e4ef132875"
   },
   "outputs": [],
   "source": [
    "df['location'].nunique()"
   ]
  },
  {
   "cell_type": "markdown",
   "metadata": {
    "colab_type": "text",
    "id": "TRBfMoZZw7a7"
   },
   "source": [
    "We notice that the fields geoId, CountryTerritoryCode, CountriesAndTerritories have a 1:1 relation and we can get rid of these redundant features. Keeping countriesAndTerritories as it is has non-null values and getting rid of other two features.\n"
   ]
  },
  {
   "cell_type": "code",
   "execution_count": null,
   "metadata": {
    "colab": {},
    "colab_type": "code",
    "id": "aWL5pf3AyPvH"
   },
   "outputs": [],
   "source": [
    "df.drop(['geoId','countryterritoryCode'], axis = 1, inplace=True)"
   ]
  },
  {
   "cell_type": "code",
   "execution_count": null,
   "metadata": {
    "colab": {
     "base_uri": "https://localhost:8080/",
     "height": 140
    },
    "colab_type": "code",
    "id": "1J1tg8FKy2va",
    "outputId": "e08bedc6-a674-4696-849c-37bb706253af"
   },
   "outputs": [],
   "source": [
    "df['continentExp'].value_counts()"
   ]
  },
  {
   "cell_type": "code",
   "execution_count": null,
   "metadata": {
    "colab": {
     "base_uri": "https://localhost:8080/",
     "height": 290
    },
    "colab_type": "code",
    "id": "mRppEBzYBdzf",
    "outputId": "0dac5677-7746-4ad1-bc1b-80d3a7bb9415"
   },
   "outputs": [],
   "source": [
    "df[['cases','deaths','popData2019']].describe()"
   ]
  },
  {
   "cell_type": "code",
   "execution_count": null,
   "metadata": {
    "colab": {
     "base_uri": "https://localhost:8080/",
     "height": 310
    },
    "colab_type": "code",
    "id": "PZSYSApCCI4w",
    "outputId": "4f619636-a3b9-4dbc-dc36-cfe75364cd1c"
   },
   "outputs": [],
   "source": [
    " df.groupby(by='continentExp')[['cases','deaths','popData2019']].agg(['max','min','mean','std']).sort_values([('deaths', 'max')], ascending=False)"
   ]
  },
  {
   "cell_type": "markdown",
   "metadata": {
    "colab_type": "text",
    "id": "_7x_1KiSzOVF"
   },
   "source": [
    "**Add a new feature to understand the death rate per million and cases reported per million. Before this ensure there are no null values for population**\n",
    "\n",
    "\n"
   ]
  },
  {
   "cell_type": "code",
   "execution_count": null,
   "metadata": {
    "colab": {
     "base_uri": "https://localhost:8080/",
     "height": 34
    },
    "colab_type": "code",
    "id": "k4d_R1Gd8rX6",
    "outputId": "9b124c28-3c07-4593-d931-58906c95caaf"
   },
   "outputs": [],
   "source": [
    "df[df['popData2019'].isnull()]['countriesAndTerritories'].unique()"
   ]
  },
  {
   "cell_type": "code",
   "execution_count": null,
   "metadata": {
    "colab": {
     "base_uri": "https://localhost:8080/",
     "height": 115
    },
    "colab_type": "code",
    "id": "U5yTXjfhHtu4",
    "outputId": "ff6c6236-16a2-48d2-ae5c-fd57c088f33b"
   },
   "outputs": [],
   "source": [
    "IntJapan = df[df['popData2019'].isnull()]\n",
    "IntJapan[IntJapan['cases'] == IntJapan['cases'].max()]"
   ]
  },
  {
   "cell_type": "code",
   "execution_count": null,
   "metadata": {
    "colab": {},
    "colab_type": "code",
    "id": "2zAhK9xiBc6K"
   },
   "outputs": [],
   "source": [
    "#Drop the columns which do not have population density - This data belongs to a particular category and can be reiterated later\n",
    "df = df[df['popData2019'].notna()]"
   ]
  },
  {
   "cell_type": "code",
   "execution_count": null,
   "metadata": {
    "colab": {},
    "colab_type": "code",
    "id": "OjAw4wK47U4p"
   },
   "outputs": [],
   "source": [
    "df['casesPerX'] = df['cases']/df['popData2019']\n",
    "df['deathsPerX'] = df['deaths']/df['popData2019']"
   ]
  },
  {
   "cell_type": "markdown",
   "metadata": {
    "colab_type": "text",
    "id": "JD-ZGjv3OEGB"
   },
   "source": [
    "**EDA - Visualization**\n",
    "\n"
   ]
  },
  {
   "cell_type": "code",
   "execution_count": null,
   "metadata": {
    "colab_type": "text",
    "id": "JD-ZGjv3OEGB"
   },
   "outputs": [],
   "source": [
    "plt.style.use('seaborn-colorblind')"
   ]
  },
  {
   "cell_type": "code",
   "execution_count": null,
   "metadata": {
    "colab": {
     "base_uri": "https://localhost:8080/",
     "height": 369
    },
    "colab_type": "code",
    "id": "XGe6JnzYaM3N",
    "outputId": "a43b3ccb-cc64-448a-f472-5b7c62536b87",
    "scrolled": true
   },
   "outputs": [],
   "source": [
    "sns.lmplot(x='cases', y=\"deaths\",hue=\"continentExp\", data=df,fit_reg=True);\n"
   ]
  },
  {
   "cell_type": "code",
   "execution_count": null,
   "metadata": {
    "colab": {
     "base_uri": "https://localhost:8080/",
     "height": 230
    },
    "colab_type": "code",
    "id": "7ppORMmTOZDR",
    "outputId": "985cdcd5-40bc-479a-ed45-29ce528b43fc"
   },
   "outputs": [],
   "source": [
    "cols = ['month','cases','deaths','casesPerX','deathsPerX','popData2019']\n",
    "df[cols].corr()[cols]"
   ]
  },
  {
   "cell_type": "code",
   "execution_count": null,
   "metadata": {
    "colab": {
     "base_uri": "https://localhost:8080/",
     "height": 327
    },
    "colab_type": "code",
    "id": "OTUdHj2SOv5d",
    "outputId": "e66245bc-3399-4f67-bfdf-6f2666ea309c"
   },
   "outputs": [],
   "source": [
    "sns.heatmap(df[cols].corr()[cols],annot=True);"
   ]
  },
  {
   "cell_type": "code",
   "execution_count": null,
   "metadata": {
    "colab": {},
    "colab_type": "code",
    "id": "SPJCxt_uRxlS"
   },
   "outputs": [],
   "source": [
    "#Convert Month to legible format. We have one record for Dec31st - So plot Dec first\n",
    "df['month'] = df['month'].map({1:'Jan', 2:'Feb', 3:'Mar', 4:'Apr', 5:'May', 6:'Jun',\n",
    "                               7:'Jul', 8:'Aug', 9:'Sep', 10:'Oct', 11:'Nov', 12:'Dec'})\n"
   ]
  },
  {
   "cell_type": "code",
   "execution_count": null,
   "metadata": {
    "colab": {
     "base_uri": "https://localhost:8080/",
     "height": 296
    },
    "colab_type": "code",
    "id": "vTYo-vLph7_D",
    "outputId": "56858899-9b27-42a8-96c1-64be754c2cd1"
   },
   "outputs": [],
   "source": [
    "hue_order = ['Africa', 'America','Asia','Europe','Ocenia']\n",
    "order = list(reversed(df['month'].unique()))\n",
    "plt.figure(figsize=(15,20))\n",
    "def plt_barchart(pos,title,yaxis):\n",
    "    plt.subplot(4,1,pos)\n",
    "    p1 = sns.barplot(x='month', y=yaxis, data=df, hue='continentExp', palette='muted', order = order, hue_order=hue_order);\n",
    "    plt.title(title);\n",
    "    p1.set(xlabel=None)\n",
    "    p1.set(ylabel=None)\n",
    "    p1.legend(title='Continent',loc='upper left')\n",
    "\n",
    "plt_barchart(1,'Cases by Month', 'cases')\n",
    "plt_barchart(2,'Case Rate Per Million', 'casesPerX')\n",
    "plt_barchart(3,'Deaths by Month', 'deaths')\n",
    "plt_barchart(4, 'Death Rate Per Million', 'deathsPerX')\n",
    "\n"
   ]
  },
  {
   "cell_type": "code",
   "execution_count": null,
   "metadata": {
    "colab": {
     "base_uri": "https://localhost:8080/",
     "height": 307
    },
    "colab_type": "code",
    "id": "RT0IL-NbPjen",
    "outputId": "3949afb2-532a-45a1-8330-b30ea4ddc76e"
   },
   "outputs": [],
   "source": [
    "#Perform some queries based on above analysis. Check the total number of cases for the month of June.\n",
    "\n",
    "df[df['month']=='Jun']['continentExp'].value_counts()\n"
   ]
  },
  {
   "cell_type": "code",
   "execution_count": null,
   "metadata": {
    "colab": {
     "base_uri": "https://localhost:8080/",
     "height": 296
    },
    "colab_type": "code",
    "id": "fZXvbAHMky-n",
    "outputId": "6fd9f729-ff99-4c3a-84d2-ba71251010ac"
   },
   "outputs": [],
   "source": [
    "df[df['continentExp']=='America']['countriesAndTerritories'].value_counts()"
   ]
  },
  {
   "cell_type": "code",
   "execution_count": null,
   "metadata": {},
   "outputs": [],
   "source": [
    "import matplotlib.dates as mdates\n",
    "df_america = df[df['continentExp'] == 'America']\n",
    "months_list = ['Jan', 'Feb', 'Mar', 'Apr', 'May', 'Jun']\n",
    "\n",
    "fig = plt.figure(figsize=(20,18))\n",
    "lv_index = 0\n",
    "def plt_relplot(import_df,title,pos,col): \n",
    "    ax1 = fig.add_subplot(3,2,pos)\n",
    "    p1 = sns.lineplot('dateRep',col, data=import_df, estimator=sum, ci=None, size=5,\\\n",
    "                  hue='countriesAndTerritories',legend=False,ax=ax1);\n",
    "    p1.set_xticklabels(rotation=45, horizontalalignment='right',\n",
    "        fontweight='light',\n",
    "        fontsize=12, labels=df['dateRep']);\n",
    "    p1.set_yticklabels(horizontalalignment='right',\n",
    "        fontweight='light',\n",
    "        fontsize=12,labels=df[col]);\n",
    "    p1.set_title(title,fontsize='small');\n",
    "    p1.set_xlabel(xlabel='');\n",
    "    p1.set_ylabel(ylabel='');\n",
    "    #set ticks every week\n",
    "    ax1.xaxis.set_major_locator(mdates.WeekdayLocator())\n",
    "    #set major ticks format\n",
    "    ax1.xaxis.set_major_formatter(mdates.DateFormatter('%b %d'))\n",
    "    \n",
    "\n",
    "for month in months_list:\n",
    "    df_list = df[df['month'] == month]\n",
    "    lv_index = lv_index + 1\n",
    "    title = 'Case Count For : ' + month\n",
    "    plt_relplot(df_list,title,lv_index,'cases')\n"
   ]
  },
  {
   "cell_type": "markdown",
   "metadata": {},
   "source": [
    "**Feature Scaling** \n",
    "<p>Implementing the feature scaling on Population Data</p>"
   ]
  },
  {
   "cell_type": "code",
   "execution_count": null,
   "metadata": {},
   "outputs": [],
   "source": [
    "#MinMaxScalar ( Normalization )\n",
    "minmax_scaling = MinMaxScaler()\n",
    "df['popData2019MinMax'] =  minmax_scaling.fit_transform(df[['popData2019']])\n",
    "df['casesPerXMinMax'] =  minmax_scaling.fit_transform(df[['casesPerX']])\n",
    "df['deathsPerXMinMax'] = minmax_scaling.fit_transform(df[['deathsPerX']])"
   ]
  },
  {
   "cell_type": "code",
   "execution_count": null,
   "metadata": {},
   "outputs": [],
   "source": [
    "#Standardization ( Z-Score Normalization)\n",
    "standard_scaler = StandardScaler()\n",
    "\n",
    "df['popData201Standard'] =  standard_scaler.fit_transform(df[['popData2019']])\n",
    "df['casesPerXStandard'] =  standard_scaler.fit_transform(df[['casesPerX']])\n",
    "df['deathsPerXStandard'] = standard_scaler.fit_transform(df[['deathsPerX']])"
   ]
  },
  {
   "cell_type": "code",
   "execution_count": null,
   "metadata": {},
   "outputs": [],
   "source": [
    "#Standardize cases and death rater per million \n",
    "\n",
    "\n",
    "sns.lmplot(y='deathsPerXStandard', x='casesPerXStandard', data=df, hue='continentExp', palette='viridis')\n",
    "\n",
    "sns.lmplot(y='deathsPerXMinMax', x='casesPerXMinMax', data=df, palette='viridis', hue='continentExp');"
   ]
  },
  {
   "cell_type": "code",
   "execution_count": null,
   "metadata": {},
   "outputs": [],
   "source": [
    "#Select which country/territory is most effected in America\n",
    "\n",
    "df_america = df[df['continentExp'] == 'America']\n",
    "\n",
    "df_sort = df_america.sort_values(['deathsPerX', 'casesPerX'])\n",
    "df_sort.tail(5)"
   ]
  },
  {
   "cell_type": "code",
   "execution_count": null,
   "metadata": {},
   "outputs": [],
   "source": []
  }
 ],
 "metadata": {
  "colab": {
   "name": "Assignment1.ipynb",
   "provenance": []
  },
  "kernelspec": {
   "display_name": "Python 3",
   "language": "python",
   "name": "python3"
  },
  "language_info": {
   "codemirror_mode": {
    "name": "ipython",
    "version": 3
   },
   "file_extension": ".py",
   "mimetype": "text/x-python",
   "name": "python",
   "nbconvert_exporter": "python",
   "pygments_lexer": "ipython3",
   "version": "3.7.3"
  }
 },
 "nbformat": 4,
 "nbformat_minor": 1
}
